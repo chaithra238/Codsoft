{
 "cells": [
  {
   "cell_type": "code",
   "execution_count": null,
   "id": "eb15ae1c",
   "metadata": {},
   "outputs": [],
   "source": [
    "#importing libraries\n",
    "import pandas as pd\n",
    "from sklearn.tree import DecisionTreeClassifier\n",
    "from sklearn.preprocessing import LabelEncoder\n",
    "from sklearn.metrics import  accuracy_score,classification_report"
   ]
  },
  {
   "cell_type": "code",
   "execution_count": null,
   "id": "791be325",
   "metadata": {
    "scrolled": true
   },
   "outputs": [],
   "source": [
    "#loading data\n",
    "df=pd.read_csv(\"fraudTrain.csv\")\n",
    "df2=pd.read_csv(\"fraudTest.csv\")"
   ]
  },
  {
   "cell_type": "code",
   "execution_count": null,
   "id": "b1dd1aea",
   "metadata": {},
   "outputs": [],
   "source": [
    "df.head(6)"
   ]
  },
  {
   "cell_type": "code",
   "execution_count": null,
   "id": "e7ba69c7",
   "metadata": {},
   "outputs": [],
   "source": [
    "df.columns"
   ]
  },
  {
   "cell_type": "code",
   "execution_count": null,
   "id": "4d828fd6",
   "metadata": {},
   "outputs": [],
   "source": [
    "#Selecting columns\n",
    "df = df[[\"trans_date_trans_time\",\"merchant\",\"category\",\"amt\",\"gender\", \"city\",\"state\",\"lat\",\"long\",\"city_pop\",\"job\",\"dob\",\"unix_time\",\"merch_lat\",\"merch_long\",\"is_fraud\"]]"
   ]
  },
  {
   "cell_type": "code",
   "execution_count": null,
   "id": "742afbf2",
   "metadata": {},
   "outputs": [],
   "source": [
    "string_columns = df.select_dtypes(include=['object']).columns\n",
    "print(string_columns)"
   ]
  },
  {
   "cell_type": "code",
   "execution_count": null,
   "id": "3b99c04d",
   "metadata": {},
   "outputs": [],
   "source": [
    "# Converting the strings to numericals in the respected columns\n",
    "encode=LabelEncoder()\n",
    "for col in ['trans_date_trans_time', 'merchant', 'category', 'gender', 'city','state', 'job', 'dob']:\n",
    "    df[col]=encode.fit_transform(df[col])\n",
    "    df2[col]=encode.fit_transform(df2[col])"
   ]
  },
  {
   "cell_type": "code",
   "execution_count": null,
   "id": "d83d0c77",
   "metadata": {},
   "outputs": [],
   "source": [
    "#Determining independent and dependent variables for the fraudtrain file\n",
    "x=df[[\"trans_date_trans_time\",\"merchant\",\"category\",\"amt\",\"gender\", \"city\",\"state\",\"lat\",\"long\",\"city_pop\",\"job\",\"dob\",\"unix_time\",\"merch_lat\",\"merch_long\"]]\n",
    "y=df[[\"is_fraud\"]]\n"
   ]
  },
  {
   "cell_type": "code",
   "execution_count": null,
   "id": "c85203c0",
   "metadata": {},
   "outputs": [],
   "source": [
    "#Determining independent and dependent variables for Fraudtest file\n",
    "x_test=df2[[\"trans_date_trans_time\",\"merchant\",\"category\",\"amt\",\"gender\", \"city\",\"state\",\"lat\",\"long\",\"city_pop\",\"job\",\"dob\",\"unix_time\",\"merch_lat\",\"merch_long\"]]\n",
    "y_test=df2[[\"is_fraud\"]]\n"
   ]
  },
  {
   "cell_type": "code",
   "execution_count": null,
   "id": "aa9b35e2",
   "metadata": {},
   "outputs": [],
   "source": [
    "#Initialize Decision tree classifier \n",
    "dt=DecisionTreeClassifier()"
   ]
  },
  {
   "cell_type": "code",
   "execution_count": null,
   "id": "3ef902c7",
   "metadata": {
    "scrolled": true
   },
   "outputs": [],
   "source": [
    "#Training the model\n",
    "dt.fit(x,y)"
   ]
  },
  {
   "cell_type": "code",
   "execution_count": 74,
   "id": "9d9a674f",
   "metadata": {},
   "outputs": [],
   "source": [
    "y_predict=dt.predict(x_test)"
   ]
  },
  {
   "cell_type": "code",
   "execution_count": null,
   "id": "8a28f3b5",
   "metadata": {},
   "outputs": [],
   "source": [
    "#Checking the accuracy\n",
    "accuracy=accuracy_score(y_test,y_predict)\n",
    "print(\"Accuracy=\",accuracy)\n"
   ]
  },
  {
   "cell_type": "code",
   "execution_count": null,
   "id": "664ec99e",
   "metadata": {},
   "outputs": [],
   "source": [
    "print(classification_report(y_test,y_predict))"
   ]
  },
  {
   "cell_type": "code",
   "execution_count": null,
   "id": "25b675b0",
   "metadata": {},
   "outputs": [],
   "source": []
  }
 ],
 "metadata": {
  "kernelspec": {
   "display_name": "Python 3 (ipykernel)",
   "language": "python",
   "name": "python3"
  },
  "language_info": {
   "codemirror_mode": {
    "name": "ipython",
    "version": 3
   },
   "file_extension": ".py",
   "mimetype": "text/x-python",
   "name": "python",
   "nbconvert_exporter": "python",
   "pygments_lexer": "ipython3",
   "version": "3.11.5"
  }
 },
 "nbformat": 4,
 "nbformat_minor": 5
}
